{
 "cells": [
  {
   "cell_type": "markdown",
   "id": "88ff2dde",
   "metadata": {
    "deletable": false,
    "editable": false
   },
   "source": [
    "![banner](https://drive.google.com/uc?export=view&id=17IASiLdmYPmOvykj13acfJJDizUxviGd)\n",
    "<u><h1>CMPUT 191 - Assignment 1</h1></u>\n",
    "#### Due: January 28, 2021 @ 11:59 PM, via eClass submission page\n",
    "By entering your name and CCID below, you hereby agree to following the Course Policies as outline on eClass [here](https://eclass.srv.ualberta.ca/mod/page/view.php?id=5859623) on late submissions, grading, and collaboration. \n",
    "\n",
    "For formatting simplicity, please do not add or remove any cells from this notebook. Write your Python code in a provided code cell, and run it if necessary so results are displayed inline in the notebook. Write your written responses in a provided Markdown cell. You may format your Markdown as you wish. "
   ]
  },
  {
   "cell_type": "markdown",
   "id": "5a216eaa",
   "metadata": {},
   "source": [
    "<div class=\"alert alert-block alert-danger\">\n",
    "(1) Mahekkumar Kaneria <br>\n",
    "(2) kaneria\n",
    "</div>"
   ]
  },
  {
   "cell_type": "markdown",
   "id": "bc8d12b8",
   "metadata": {
    "deletable": false,
    "editable": false
   },
   "source": [
    "### Task\n",
    "A critical aspect to data analysis that is often overlooked when first foraying into the field is the *collection* of the data to be analyzed in the first place! In your very first assignment for CMPUT 191, you still will have the chance to do some basic data analysis, but it all relies on your ability to effectively collect some data first. And, we're leaving the *what* up to you!\n",
    "\n",
    "Ever wonder if a certain circumstane is a simple coincidence, or if there's actually a hidden reason behind it? This questioning is what powers the scientific method: the creation of a question that we will then set out to constuct a hypothesis to answer, and then we prove ourselves right or wrong. Oftentimes in science, we set out to prove these seeming coincidences: from simple theories like if increasing temperatures is related to higher air conditioner sales, to more complex issues like if smoking is linked to an increased risk of cancer. \n",
    "\n",
    "A correlational study is often executed before developing a fully fledged experiment upon subjects, to see if there are signs of a relationship betweeen variables. The main objective of this assignment if for you to design and execute a simple correlational study."
   ]
  },
  {
   "cell_type": "markdown",
   "id": "68f90e3a",
   "metadata": {
    "deletable": false,
    "editable": false
   },
   "source": [
    "### Part 1) Data Gathering"
   ]
  },
  {
   "cell_type": "markdown",
   "id": "de8ea169",
   "metadata": {
    "deletable": false,
    "editable": false
   },
   "source": [
    "__Part 1.1)__\n",
    "Pick two quantitative variables which you believe may or may not be related, and whose observations are tied together somehow (ie. taken place on the same date/time, co-exist in the same place, etc.). Provide an operational definition for each of the variables being measured, and then indicate which is the dependant and which is the independant variables, in the cell below. You must also indicate the source of your data."
   ]
  },
  {
   "cell_type": "markdown",
   "id": "c8fa071a",
   "metadata": {},
   "source": [
    "Two variable I chose is **Monthly Edmonton covid cases** and **Unemployment Rate in Edmonton.**<br>\n",
    "Here covid cases is independent variable and unemployment rate is dependent variable.\n",
    "\n",
    "##### *source of covid data* https://data.edmonton.ca/Community-Services/COVID-19-in-Edmonton-Cumulative-Case-History/mina-ycn3 \n",
    "##### *source of unemployment data* https://dashboard.edmonton.ca/Dashboard/Unemployment-Rate-Edmonton-CMA/sgij-r32u"
   ]
  },
  {
   "cell_type": "markdown",
   "id": "c7333a42",
   "metadata": {
    "deletable": false,
    "editable": false
   },
   "source": [
    "__Part 1.2)__ A prediction shouldn't be utterly baseless. Use the text box below to explain why you chose the two variables you did -- perhaps you've noticed a coincidence here and there between them, or have heard of somewhere of the two actually being related. Ultimately, we don't want you to just randomly select things to measure. Furthermore, make a prediction here -- do you think the two variables will or will not have a correlation? 2 or 3 sentences should suffice. "
   ]
  },
  {
   "cell_type": "markdown",
   "id": "2e294666",
   "metadata": {},
   "source": [
    "I chose this two variable as I heard in news and from many people that they lost their jobs due to lockdown in their country.\n",
    "Also as company moved from office work to work from home they need less employees and less support staff so they need to fire many of their employees. Due to less sales and decreasing profit companies decide to cut their cost and most efficient option to cut the cost is to remove employees. So according to me I think that these two variable have a relation between them as if Covid cases increased, Unemployment rate must also increase and vice-versa."
   ]
  },
  {
   "cell_type": "markdown",
   "id": "e1f71ef6",
   "metadata": {
    "deletable": false,
    "editable": false
   },
   "source": [
    "__Part 1.3)__ Then, collect sample data either on the Internet or by real-world observations, and write into into a comma-separated value file (.csv). Upload it to JupyterHub, and read it into a table displaying the output in the cell below.\n",
    "\n",
    "*Hint: Google how to create a .csv file if you're unsure -- a lot of programming practice boils down to learning how to do certain things by learning online! You may even find that tools like Excel or Google Sheets can export to a .csv format. If you're stuck, feel free to reach out to a TA for help.*"
   ]
  },
  {
   "cell_type": "code",
   "execution_count": 1,
   "id": "a04630bf",
   "metadata": {},
   "outputs": [
    {
     "data": {
      "text/html": [
       "<table border=\"1\" class=\"dataframe\">\n",
       "    <thead>\n",
       "        <tr>\n",
       "            <th>Month</th> <th>Year</th> <th>Date</th> <th>Confirmed Cases (Cumulative)</th>\n",
       "        </tr>\n",
       "    </thead>\n",
       "    <tbody>\n",
       "        <tr>\n",
       "            <td>March    </td> <td>2020</td> <td>2020-03</td> <td>78                          </td>\n",
       "        </tr>\n",
       "        <tr>\n",
       "            <td>April    </td> <td>2020</td> <td>2020-04</td> <td>400                         </td>\n",
       "        </tr>\n",
       "        <tr>\n",
       "            <td>May      </td> <td>2020</td> <td>2020-05</td> <td>499                         </td>\n",
       "        </tr>\n",
       "        <tr>\n",
       "            <td>June     </td> <td>2020</td> <td>2020-06</td> <td>796                         </td>\n",
       "        </tr>\n",
       "        <tr>\n",
       "            <td>July     </td> <td>2020</td> <td>2020-07</td> <td>1387                        </td>\n",
       "        </tr>\n",
       "        <tr>\n",
       "            <td>August   </td> <td>2020</td> <td>2020-08</td> <td>2489                        </td>\n",
       "        </tr>\n",
       "        <tr>\n",
       "            <td>September</td> <td>2020</td> <td>2020-09</td> <td>4336                        </td>\n",
       "        </tr>\n",
       "        <tr>\n",
       "            <td>October  </td> <td>2020</td> <td>2020-10</td> <td>7957                        </td>\n",
       "        </tr>\n",
       "        <tr>\n",
       "            <td>November </td> <td>2020</td> <td>2020-11</td> <td>17133                       </td>\n",
       "        </tr>\n",
       "        <tr>\n",
       "            <td>December </td> <td>2020</td> <td>2020-12</td> <td>37208                       </td>\n",
       "        </tr>\n",
       "    </tbody>\n",
       "</table>\n",
       "<p>... (9 rows omitted)</p>"
      ],
      "text/plain": [
       "Month     | Year | Date    | Confirmed Cases (Cumulative)\n",
       "March     | 2020 | 2020-03 | 78\n",
       "April     | 2020 | 2020-04 | 400\n",
       "May       | 2020 | 2020-05 | 499\n",
       "June      | 2020 | 2020-06 | 796\n",
       "July      | 2020 | 2020-07 | 1387\n",
       "August    | 2020 | 2020-08 | 2489\n",
       "September | 2020 | 2020-09 | 4336\n",
       "October   | 2020 | 2020-10 | 7957\n",
       "November  | 2020 | 2020-11 | 17133\n",
       "December  | 2020 | 2020-12 | 37208\n",
       "... (9 rows omitted)"
      ]
     },
     "execution_count": 1,
     "metadata": {},
     "output_type": "execute_result"
    }
   ],
   "source": [
    "from datascience import *\n",
    "import numpy as np\n",
    "\n",
    "import numpy as np\n",
    "#import math\n",
    "#from datascience import *\n",
    "\n",
    "#I have converted daily data from the orignal file to monthly data using Excel so that I can compare both the data\n",
    "covid = Table.read_table('Covid cases edited.csv')\n",
    "#This drops the unnecesary columns\n",
    "covid = covid.drop(\"Confirmed Cases: Daily Change\",\"Active Cases (As of Date)\",\"Recovered Cases (Cumulative)\",\"Deaths (Cumulative)\",\n",
    "                               \"In Hospital (As of Date)\",\"In Hospital: Daily Change\",\"In Intensive Care (As of Date)\",\"In Intensive Care: Daily Change\",\"Deaths: Daily Change\",\"Test Count: Edmonton\",\"Test Count: Alberta\",\"Test Percentage\",\"Test Positivity Rate\",\"Hospitalization Rate\",\"Rate of Cases: Edmonton\")\n",
    "#This removes the data to match the months of other data\n",
    "covid = covid.where(\"Confirmed Cases (Cumulative)\",are.between(0,99725))\n",
    "\n",
    "unemployment = Table.read_table('Unemployment rate edited.csv')\n",
    "unemployment = unemployment.drop(\"National Unemployment Rate\",\"Report Period\")\n",
    "covid\n",
    "\n",
    "\n",
    "\n",
    "\n"
   ]
  },
  {
   "cell_type": "markdown",
   "id": "a21a3987",
   "metadata": {
    "deletable": false,
    "editable": false
   },
   "source": [
    "### Part 2) Data Visualization"
   ]
  },
  {
   "cell_type": "markdown",
   "id": "fa5231e5",
   "metadata": {
    "deletable": false,
    "editable": false
   },
   "source": [
    "__Part 2.1)__ Use Python tools to draw a scatterplot of your two variables measured below. Make sure to run the cell so that your graph is displayed inline in the notebook. \n",
    "\n",
    "*Hint: you will need to import in a Python package. If you save the table you created in Part 1.2) into a variable, then you will be able to use that variable to create the scatterplot.*"
   ]
  },
  {
   "cell_type": "code",
   "execution_count": 2,
   "id": "14d9a914",
   "metadata": {},
   "outputs": [
    {
     "data": {
      "image/png": "[encoded data removed]",
      "text/plain": [
       "<Figure size 432x288 with 1 Axes>"
      ]
     },
     "metadata": {
      "needs_background": "light"
     },
     "output_type": "display_data"
    }
   ],
   "source": [
    "from datascience import *\n",
    "import numpy as np\n",
    "\n",
    "%matplotlib inline\n",
    "import matplotlib.pyplot as plots\n",
    "#plots.style.use('fivethirtyeight')\n",
    "\n",
    "import numpy as np\n",
    "import math\n",
    "from datascience import *\n",
    "\n",
    "\n",
    "x=covid.column(\"Confirmed Cases (Cumulative)\")\n",
    "y=unemployment.column(\"Unemployment Rate\")\n",
    "plots.scatter(x,y)\n",
    "plots.xlabel('Confirmed cases')\n",
    "plots.ylabel('Unemployment Rate')\n",
    "plots.title(\"Scatterplot between Confirmed Cases and Unemployment rate\")\n",
    "plots.show()\n",
    "\n",
    "\n"
   ]
  },
  {
   "cell_type": "markdown",
   "id": "4955671c",
   "metadata": {
    "deletable": false,
    "editable": false
   },
   "source": [
    "### Part 3) Data Statistics\n",
    "**Important: for all questions in this section, you must include Python code in the provided code cells in order to produce the required answers.**"
   ]
  },
  {
   "cell_type": "markdown",
   "id": "542161f3",
   "metadata": {
    "deletable": false,
    "editable": false
   },
   "source": [
    "__Part 3.1)__ Calculate and display the sample size of your data using Python:"
   ]
  },
  {
   "cell_type": "code",
   "execution_count": 3,
   "id": "10b85ab6",
   "metadata": {},
   "outputs": [
    {
     "name": "stdout",
     "output_type": "stream",
     "text": [
      "Sample size of covid cases data is 19\n",
      "Sample size of Unemployment rate data is 19\n"
     ]
    }
   ],
   "source": [
    "covid_rows = covid.num_rows\n",
    "unemployment_rows = unemployment.num_rows\n",
    "print(\"Sample size of covid cases data is\",covid_rows)\n",
    "print(\"Sample size of Unemployment rate data is\",unemployment_rows)"
   ]
  },
  {
   "cell_type": "markdown",
   "id": "16c52e54",
   "metadata": {
    "deletable": false,
    "editable": false
   },
   "source": [
    "__Part 3.2)__ Calculate and display the mean of both of your variables separately using Python:"
   ]
  },
  {
   "cell_type": "code",
   "execution_count": 4,
   "id": "54694506",
   "metadata": {},
   "outputs": [
    {
     "name": "stdout",
     "output_type": "stream",
     "text": [
      "Mean of monthly covid cases in Edmonton is 36579.0\n",
      "Mean of unemployment rate in Edmonton is 11.37\n"
     ]
    }
   ],
   "source": [
    "covid_cases = covid.column(\"Confirmed Cases (Cumulative)\")\n",
    "unemployment_rate = unemployment.column(\"Unemployment Rate\")\n",
    "print(\"Mean of monthly covid cases in Edmonton is\",np.mean(covid_cases))\n",
    "print(\"Mean of unemployment rate in Edmonton is\",round(np.mean(unemployment_rate),2))\n"
   ]
  },
  {
   "cell_type": "markdown",
   "id": "7b3bfd31",
   "metadata": {
    "deletable": false,
    "editable": false
   },
   "source": [
    "__Part 3.3)__ Calculate and display the median of both of your variables separately using Python:"
   ]
  },
  {
   "cell_type": "code",
   "execution_count": 5,
   "id": "d1e3b034",
   "metadata": {},
   "outputs": [
    {
     "name": "stdout",
     "output_type": "stream",
     "text": [
      "Median of monthly covid cases in Edmonton is 37208.0\n",
      "Median of unemployment rate in Edmonton is 11.0\n"
     ]
    }
   ],
   "source": [
    "print(\"Median of monthly covid cases in Edmonton is\",np.median(covid_cases))\n",
    "print(\"Median of unemployment rate in Edmonton is\",np.median(unemployment_rate))"
   ]
  },
  {
   "cell_type": "markdown",
   "id": "1d5a6fe4",
   "metadata": {
    "deletable": false,
    "editable": false
   },
   "source": [
    "__Part 3.4)__ Calculate and display the varianceof both of your variables separately using Python:"
   ]
  },
  {
   "cell_type": "code",
   "execution_count": 6,
   "id": "0ff32f13",
   "metadata": {},
   "outputs": [
    {
     "name": "stdout",
     "output_type": "stream",
     "text": [
      "Variance of monthly covid cases in Edmonton is 1110577431.58\n",
      "Variance of unemployment rate in Edmonton is 5.18\n"
     ]
    }
   ],
   "source": [
    "print(\"Variance of monthly covid cases in Edmonton is\",round(np.var(covid_cases),2))\n",
    "print(\"Variance of unemployment rate in Edmonton is\",round(np.var(unemployment_rate),2))"
   ]
  },
  {
   "cell_type": "markdown",
   "id": "902e359c",
   "metadata": {
    "deletable": false,
    "editable": false
   },
   "source": [
    "__Part 3.5)__ Calculate and display the standard deviation of both of your variables separately using Python:"
   ]
  },
  {
   "cell_type": "code",
   "execution_count": 7,
   "id": "09ded97c",
   "metadata": {},
   "outputs": [
    {
     "name": "stdout",
     "output_type": "stream",
     "text": [
      "Standard deviation of monthly covid cases in Edmonton is 33325.33\n",
      "Standard deviation of unemployment rate in Edmonton is 2.28\n"
     ]
    }
   ],
   "source": [
    "print(\"Standard deviation of monthly covid cases in Edmonton is\",round(np.std(covid_cases),2))\n",
    "print(\"Standard deviation of unemployment rate in Edmonton is\",round(np.std(unemployment_rate),2))"
   ]
  },
  {
   "cell_type": "markdown",
   "id": "340da268",
   "metadata": {
    "deletable": false,
    "editable": false
   },
   "source": [
    "__Part 3.6)__ Calculate and display the sum of squared deviations of both of your variables separately using Python:"
   ]
  },
  {
   "cell_type": "code",
   "execution_count": 8,
   "id": "a2a13856",
   "metadata": {},
   "outputs": [
    {
     "name": "stdout",
     "output_type": "stream",
     "text": [
      "Sum of squared deviations of covid cases in Edmonton is 19990393768.42\n",
      "Sum of squared deviations of unemployment rate in Edmonton is 93.24\n"
     ]
    }
   ],
   "source": [
    "sum_of_sq_covid= np.var(covid_cases)*(len(covid_cases)-1)\n",
    "sum_of_sq_unemployment = np.var(unemployment_rate)*(len(unemployment_rate)-1)\n",
    "print(\"Sum of squared deviations of covid cases in Edmonton is\",round(sum_of_sq_covid,2))\n",
    "print(\"Sum of squared deviations of unemployment rate in Edmonton is\", round(sum_of_sq_unemployment,2))"
   ]
  },
  {
   "cell_type": "markdown",
   "id": "9ee96ca8",
   "metadata": {
    "deletable": false,
    "editable": false
   },
   "source": [
    "### Now, answer some questions related to your study. "
   ]
  },
  {
   "cell_type": "markdown",
   "id": "b6c3c42d",
   "metadata": {
    "deletable": false,
    "editable": false
   },
   "source": [
    "__Part 4.1)__ Think back to the beginning of this assignment; did your prediction from Part 1.2) hold true? Why or why not do you think so?"
   ]
  },
  {
   "cell_type": "markdown",
   "id": "4528d969",
   "metadata": {},
   "source": [
    "Yes, my prediction from Part 1.2 holds true as by looking at the scatter plot we can show that these two variable are related to each other and have correlation between them. Also my prediction that in the latter covid era unemployment will recover holds true as we can see in the plot that unemployment again went back to its orignal rate."
   ]
  },
  {
   "cell_type": "markdown",
   "id": "115d998b",
   "metadata": {
    "deletable": false,
    "editable": false
   },
   "source": [
    "__Part 4.2)__ Is there any evident relationship or correlation between the variables? Refer back to your scatterplot."
   ]
  },
  {
   "cell_type": "markdown",
   "id": "8aeab896",
   "metadata": {},
   "source": [
    "Yes, in the first half of the Covid era, unemployment and covid cases are related as \n",
    "unemployment rate increased with increase in \n",
    "covid cases but in tha latter part as society evolved and learned how to work from home and how to tackle covid virus, unemployment rate again went down. So we can not firmly agree that they have correlation between them."
   ]
  },
  {
   "cell_type": "markdown",
   "id": "210b7455",
   "metadata": {
    "deletable": false,
    "editable": false
   },
   "source": [
    "__Part 4.3)__ Describe the data you collected a bit. Do the data points cluster around a particular spot? Are there any discernible patterns? Can you think as to why? You can refer back to your scatterplot, if you'd like. "
   ]
  },
  {
   "cell_type": "markdown",
   "id": "72c9fa9c",
   "metadata": {},
   "source": [
    "Covid cases data is increasing throughout but the unemployment rate first increased rapidly and then gradually decreased and came back to its orignal place. According to me I think this happened as people learned how to tackle coronavirus and work from home efficiently and comapanies also found alternate solution of physical office work. One other reason can also be that work from home created new online business ideas and created many more job opportunities which further resulted to decreased unemployment rate. "
   ]
  },
  {
   "cell_type": "markdown",
   "id": "bd167572",
   "metadata": {
    "deletable": false,
    "editable": false
   },
   "source": [
    "__Part 4.4)__ Are there any potential confounding variables that could be affecting the relationship between the variables? Explain."
   ]
  },
  {
   "cell_type": "markdown",
   "id": "e69015b2",
   "metadata": {},
   "source": [
    "According to me, there are no confounding variable that affect both of them. There are several variables which affect only one of the two variable like Online business"
   ]
  },
  {
   "cell_type": "markdown",
   "id": "be030359",
   "metadata": {
    "deletable": false,
    "editable": false
   },
   "source": [
    "__Part 4.5)__ Can you conclude a causal relationship between the two variables? Why or why not?"
   ]
  },
  {
   "cell_type": "markdown",
   "id": "22d36940",
   "metadata": {},
   "source": [
    "Yes, we can definitely conclude that there is casual relationship between the two variable as in the initial phase one variable affects the other variable. Also by looking at the graph of just 2019 we can say that these two variable are in correlation with each other. "
   ]
  },
  {
   "cell_type": "markdown",
   "id": "65af6a5b",
   "metadata": {
    "deletable": false,
    "editable": false
   },
   "source": [
    "<div class=\"alert alert-block alert-danger\">\n",
    "    Do not forget to submit your notebook and datasets on eClass by Jan 28, 5pm\n",
    "    </div>"
   ]
  }
 ],
 "metadata": {
  "celltoolbar": "Edit Metadata",
  "kernelspec": {
   "display_name": "Python 3 (ipykernel)",
   "language": "python",
   "name": "python3"
  },
  "language_info": {
   "codemirror_mode": {
    "name": "ipython",
    "version": 3
   },
   "file_extension": ".py",
   "mimetype": "text/x-python",
   "name": "python",
   "nbconvert_exporter": "python",
   "pygments_lexer": "ipython3",
   "version": "3.9.7"
  }
 },
 "nbformat": 4,
 "nbformat_minor": 5
}
